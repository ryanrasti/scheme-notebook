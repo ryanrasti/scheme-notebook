{
 "cells": [
  {
   "cell_type": "code",
   "execution_count": 1,
   "id": "4d65f046",
   "metadata": {},
   "outputs": [],
   "source": [
    "; Run this cell to load in Simply Scheme!\n",
    "(require (planet dyoo/simply-scheme:2:2))\n",
    "(se 'everything 'is 'working!)"
   ]
  },
  {
   "cell_type": "code",
   "execution_count": null,
   "id": "b36cbcbd",
   "metadata": {},
   "outputs": [],
   "source": []
  }
 ],
 "metadata": {
  "kernelspec": {
   "display_name": "Racket",
   "language": "racket",
   "name": "racket"
  },
  "language_info": {
   "codemirror_mode": "scheme",
   "file_extension": ".rkt",
   "mimetype": "text/x-racket",
   "name": "Racket",
   "pygments_lexer": "racket",
   "version": "8.3"
  }
 },
 "nbformat": 4,
 "nbformat_minor": 5
}
